{
 "cells": [
  {
   "cell_type": "markdown",
   "id": "2cb45287-ece2-4b22-b51d-99119ae2ea21",
   "metadata": {},
   "source": [
    "# 9.1 创建和使用类\n",
    "## 9.1.1 创建Dog类"
   ]
  },
  {
   "cell_type": "markdown",
   "id": "3c943804-1d67-400e-82cb-8b6fc1104b11",
   "metadata": {},
   "source": [
    "Eg.1 :\n",
    "My dog's name is Willie.<br>\n",
    "My dog's is 6 years old.<br>\n",
    "Willie is now sitting.<br>\n",
    "Willie rolled over!<br>\n",
    "\n",
    "Your dog's name is Lucy.<br>\n",
    "Your dog is 3 years old.<br>\n",
    "Lucy is now sitting.<br>\n",
    "Lucy rolled over!"
   ]
  },
  {
   "cell_type": "markdown",
   "id": "fd4269fa-5cf3-4abe-b7d0-e138b49688cc",
   "metadata": {
    "jupyter": {
     "source_hidden": true
    },
    "tags": []
   },
   "source": [
    "Dog()<br>\n",
    "My dog's name is xxx. (对象-属性)<br>\n",
    "My dog is x years old. (对象-属性)<br>\n",
    "xxx is now sitting. (对象-行为)<br>\n",
    "xxx rolled over! (对象-行为)"
   ]
  },
  {
   "cell_type": "markdown",
   "id": "294eb4bf-a5c6-4923-8686-1c425b589d68",
   "metadata": {},
   "source": [
    "根据Dog 类创建的每个实例都将存储名字和年龄， 我们赋予了每条小狗蹲下(sit( )) 和打滚(roll_over( ))的能力："
   ]
  },
  {
   "cell_type": "code",
   "execution_count": 1,
   "id": "ee02074c-10df-4d6d-abd6-60a4c80db3d2",
   "metadata": {},
   "outputs": [],
   "source": [
    "class Dog:\n",
    "    \"\"\"一次模拟小狗的简单尝试\"\"\"\n",
    "    \n",
    "    def __init__(self, name, age):\n",
    "        \"\"\"初始化属性name和age。\"\"\"\n",
    "        self.name = name\n",
    "        self.age = age\n",
    "        \n",
    "    def sit(self):\n",
    "        \"\"\"模拟小狗收到命令蹲下\"\"\"\n",
    "        print(f'{self.name} is now sitting.')\n",
    "        \n",
    "    def roll_over(self):\n",
    "        \"\"\"模拟小狗收到命令时打滚。\"\"\"\n",
    "        print(f\"{self.name} roll over!\")"
   ]
  },
  {
   "cell_type": "markdown",
   "id": "6fdd9190-1668-42fb-bb16-96542fe49d92",
   "metadata": {},
   "source": [
    "#### &emsp;&emsp;**方法__init__()**\n",
    "<font color=#CC00FF><div style=\"text-align: right\">**[concept-091-001]**</div></font>"
   ]
  },
  {
   "cell_type": "markdown",
   "id": "de15164b-e0f1-42f8-8aa3-3502738fae6f",
   "metadata": {
    "jupyter": {
     "source_hidden": true
    },
    "tags": []
   },
   "source": [
    "<br>&emsp;&emsp; **类中的函数称为方法** 。 你在前面学到的有关函数的一切都适用于方法， 就目前而言， 唯一重要的差别是调用方法的方式。 第4行处的方法__init__() 是一个特殊方法， 每当你根据Dog类创建新实例时， Python都会自动运行它。</br>\n",
    "<br>&emsp;&emsp;在这个方法的名称中， 开头和末尾各有两个下划线， 这是一种约定， 旨在避免Python默认方法与普通方法发生名称冲突。 务必确保__init__() 的两边都有 <font color='red'><strong>两个</strong></font> 下划线，否则当你使用类来创建实例时， 将不会自动调用这个方法， 进而引发难以发现的错误。</br>\n",
    "<br>&emsp;&emsp;我们将方法__init__() 定义成包含三个形参：self、name和age 。 在这个方法的定义中， 形参self 必不可少， **而且必须** 位于其他形参的前面。</br>\n",
    "<br>&emsp;&emsp;<font color='blue'>为何必须在方法定义中包含形参self 呢？</font> 因为Python调用这个方法来创建Dog 实例时， 将自动传入实参self 。 每个与实例相关联的方法调用都自动传递实参self ， 它是一个指向实例本身的引用， 让实例能够访问类中的属性和方法。</br>\n",
    "<br>&emsp;&emsp;创建Dog 实例时， Python将调用Dog 类的方法__init__() 。 我们将通过实参向Dog() 传递名字和年龄， self 会自动传递， 因此不需要传递它。 每当根据Dog 类创建实例时， 都只需给最后两个形参(name和age) 提供值。</br>"
   ]
  },
  {
   "cell_type": "markdown",
   "id": "660ce4ae-c9b9-40f2-8f34-22c59ed7f193",
   "metadata": {},
   "source": [
    "#### &emsp;&emsp;**属性**\n",
    "<font color=#CC00FF><div style=\"text-align: right\">**[concept-091-002]**</div></font>"
   ]
  },
  {
   "cell_type": "markdown",
   "id": "ddee5b5a-de2e-444c-8104-a2c8c063059e",
   "metadata": {
    "jp-MarkdownHeadingCollapsed": true,
    "jupyter": {
     "source_hidden": true
    },
    "tags": []
   },
   "source": [
    "<br>&emsp;&emsp;第4行处定义的两个变量都有前缀self。以self 为前缀的变量可供类中的所有方法使用，可以通过类的任何实例来访问。self.name =name 获取与形参name 相关联的值，并将其赋给变量name ，然后该变量被关联到当前创建的实例。self.age = age 的作用与此类似。</br>\n",
    "<br>&emsp;&emsp;像这样可通过实例访问的变量称为 **属性** 。</br>"
   ]
  },
  {
   "cell_type": "markdown",
   "id": "109adbcd-2003-4109-a74e-a10243279e22",
   "metadata": {},
   "source": [
    "Dog类还定义了另外两个方法：sit()和roll_over()。这些方法执行时不需要额外的信息， 因此它们只有一个形参self。"
   ]
  },
  {
   "cell_type": "markdown",
   "id": "0a78a54e-eefb-4d65-9f81-39d392b12b7b",
   "metadata": {},
   "source": [
    "## 9.1.2 根据类创建实例\n",
    "&emsp;&emsp;创建一个表示特定小狗的实例："
   ]
  },
  {
   "cell_type": "code",
   "execution_count": 2,
   "id": "c79afe74-cb33-49e9-b1c8-04bada71c9a2",
   "metadata": {},
   "outputs": [
    {
     "name": "stdout",
     "output_type": "stream",
     "text": [
      "My dog's name is Willie.\n",
      "My dog is 6 years old.\n"
     ]
    }
   ],
   "source": [
    "my_dog = Dog('Willie', 6)\n",
    "print(f\"My dog's name is {my_dog.name}.\")\n",
    "print(f\"My dog is {my_dog.age} years old.\")"
   ]
  },
  {
   "cell_type": "markdown",
   "id": "656d05d8-934c-4b0f-bc61-3664e7aca83b",
   "metadata": {},
   "source": [
    "&emsp;&emsp;第1行，让Python创建一条名字为'Willie'，年龄为6的小狗。\n",
    "<br>&emsp;&emsp;遇到这行代码时，Python使用实参'Willie'和6 调用Dog类的方法__init__()。方法__init__()创建一个表示特定小狗的实例，并使用提供的值来设置属性name和age。</br>\n",
    "&emsp;&emsp;接下来，Python返回一个表示这条小狗的实例，而我们将这个实例赋给了变量my_dog。在这里，命名约定很有用：通常可认为首字母大写的名称(如Dog)指的是类，而小写的名称(如my_dog)指的是根据类创建的实例。"
   ]
  },
  {
   "cell_type": "markdown",
   "id": "05712cb6-cdb1-45ea-96a6-55836b29c203",
   "metadata": {},
   "source": [
    "#### &emsp;&emsp;**a. 访问属性——句点表示法**\n",
    "<font color=#CC00FF><div style=\"text-align: right\">**[concept-091-003]**</div></font>"
   ]
  },
  {
   "cell_type": "markdown",
   "id": "8a05ff19-be76-4a63-811f-d2096a330b34",
   "metadata": {},
   "source": [
    "&emsp;&emsp;要访问实例的属性，可使用句点表示法。\n",
    "<br>&emsp;&emsp;句点表示法在Python中很常用，这种语法演示了Python如何获悉属性的值。在这里，Python先找到实例my_dog，再查找与该实例相关联的属性name。</br>\n",
    "&emsp;&emsp;在Dog类中引用这个属性时，使用的是self.name和self.age。"
   ]
  },
  {
   "cell_type": "markdown",
   "id": "95d2b6b5-0f5a-47f9-b058-3d4ee94797d4",
   "metadata": {},
   "source": [
    "#### &emsp;&emsp;**b. 调用方法**\n",
    "<font color=#CC00FF><div style=\"text-align: right\">**[concept-091-004]**</div></font>"
   ]
  },
  {
   "cell_type": "markdown",
   "id": "39ced81b-803b-4413-bf25-2262336e7f99",
   "metadata": {},
   "source": [
    "&emsp;&emsp;根据Dog 类创建实例后， 就能使用句点表示法来调用Dog 类中定义的任何方法了。\n",
    "<br>&emsp;&emsp;下面来让小狗蹲下和打滚：</br>"
   ]
  },
  {
   "cell_type": "code",
   "execution_count": 3,
   "id": "8975cd8a-7dda-4aea-af4d-05bcff4d34bb",
   "metadata": {},
   "outputs": [
    {
     "name": "stdout",
     "output_type": "stream",
     "text": [
      "Willie is now sitting.\n",
      "Willie roll over!\n"
     ]
    }
   ],
   "source": [
    "my_dog.sit()\n",
    "my_dog.roll_over()"
   ]
  },
  {
   "cell_type": "markdown",
   "id": "a1da0bf1-90ec-41b6-8860-c33e70935dc3",
   "metadata": {},
   "source": [
    "&emsp;&emsp;要调用方法，可指定实例的名称（这里是my_dog）和要调用的方法，并用句点分隔。\n",
    "<br>&emsp;&emsp;遇到代码my_dog.sit() 时，Python在类Dog中查找方法sit()并运行其代码。Python以同样的方式解读代码my_dog.roll_over()。</br>\n",
    "&emsp;&emsp;就像我们看到的输出——Willie按我们的命令做了"
   ]
  },
  {
   "cell_type": "markdown",
   "id": "bfc4e5ab-657a-48d8-a6fd-c6a849f8fd2c",
   "metadata": {},
   "source": [
    "#### &emsp;&emsp;**c. 创建多个实例**"
   ]
  },
  {
   "cell_type": "code",
   "execution_count": 4,
   "id": "68198c8e-fdbe-4d32-857c-efd968b1c1e3",
   "metadata": {},
   "outputs": [
    {
     "name": "stdout",
     "output_type": "stream",
     "text": [
      "My dog's name is Willie.\n",
      "My dog is 6 years old.\n",
      "Willie is now sitting.\n",
      "\n",
      "Your dog's name is Lucy.\n",
      "Your dog is 3 years old.\n",
      "Lucy is now sitting.\n"
     ]
    }
   ],
   "source": [
    "my_dog = Dog('Willie', 6)\n",
    "your_dog = Dog('Lucy', 3)\n",
    "print(f\"My dog's name is {my_dog.name}.\")\n",
    "print(f\"My dog is {my_dog.age} years old.\")\n",
    "my_dog.sit()\n",
    "print(f\"\\nYour dog's name is {your_dog.name}.\")\n",
    "print(f\"Your dog is {your_dog.age} years old.\")\n",
    "your_dog.sit()"
   ]
  },
  {
   "cell_type": "markdown",
   "id": "60f9ce1e-ac99-4a9c-a4b6-3dcb1cb1dcba",
   "metadata": {},
   "source": [
    "&emsp;&emsp;在本例中创建了两条小狗，分别名为Willie和Lucy。每条小狗都是一个独立的实例，有自己的一组属性，能够执行相同的操作。\n",
    "<br>&emsp;&emsp;即使给第二条小狗指定同样的名字和年龄，Python依然会根据Dog 类创建另一个实例。你可按需求根据一个类创建任意数量的实例，条件是将每个实例都存储在不同的变量中，或者占用列表或字典的不同位置。</br>"
   ]
  },
  {
   "cell_type": "markdown",
   "id": "9d566c76-e600-4922-b5ef-c05427a61749",
   "metadata": {},
   "source": [
    "##  Exercises"
   ]
  },
  {
   "cell_type": "markdown",
   "id": "f262f443-4171-4523-9032-33ce9434c4b4",
   "metadata": {},
   "source": [
    "#### 练习9-1： 餐馆 \n",
    "创建一个名为Restaurant的类，为其方法__init__()设置属性restaurant_name和cuisine_type。\n",
    "<br>创建一个名为describe_restaurant() 的方法和一个名为open_restaurant()的方法，前者打印前述两项信息，而后者打印一条消息，指出餐馆正在营业。</br>\n",
    "根据这个类创建一个名为restaurant的实例，分别打印其两个属性，再调用前述两个方法。"
   ]
  },
  {
   "cell_type": "code",
   "execution_count": 8,
   "id": "ac6ef004-dcee-4f0c-bd0f-ca1722a1f451",
   "metadata": {
    "jupyter": {
     "source_hidden": true
    },
    "tags": []
   },
   "outputs": [],
   "source": [
    "class Restaurant:\n",
    "    \"\"\"创建餐馆，包括餐馆取名和餐馆风味等\"\"\"\n",
    "    \n",
    "    def __init__(self, restaurant_name, cuisine_type):\n",
    "        \"\"\"餐馆名字和烹饪风味\"\"\"\n",
    "        self.name = restaurant_name\n",
    "        self.cuisine_type = cuisine_type\n",
    "        \n",
    "    def describe_restaurant(self):\n",
    "        \"\"\"打印餐馆名字和烹饪风味\"\"\"\n",
    "        print(f\"Welcome to {self.name}!\")\n",
    "        print(f\"We serve {self.cuisine_type} cuisine.\")\n",
    "        \n",
    "    def open_restaurant(self):\n",
    "        print(\"On business ~\")"
   ]
  },
  {
   "cell_type": "code",
   "execution_count": 9,
   "id": "c35ef8fa-26a3-4351-914f-c5226f5e0cd2",
   "metadata": {
    "collapsed": true,
    "jupyter": {
     "outputs_hidden": true,
     "source_hidden": true
    },
    "tags": []
   },
   "outputs": [
    {
     "name": "stdout",
     "output_type": "stream",
     "text": [
      "Welcome to Amily's Family!\n",
      "We serve Chinese cuisine.\n"
     ]
    }
   ],
   "source": [
    "first_restaurant = Restaurant(\"Amily's Family\", 'Chinese')\n",
    "print(f\"Welcome to {first_restaurant.name}!\")\n",
    "print(f\"We serve {first_restaurant.cuisine_type} cuisine.\")"
   ]
  },
  {
   "cell_type": "code",
   "execution_count": 10,
   "id": "7a88e3f6-a0cb-4735-83f0-1386087e3038",
   "metadata": {
    "collapsed": true,
    "jupyter": {
     "outputs_hidden": true,
     "source_hidden": true
    },
    "tags": []
   },
   "outputs": [
    {
     "name": "stdout",
     "output_type": "stream",
     "text": [
      "Welcome to Amily's Family!\n",
      "We serve Chinese cuisine.\n",
      "On business ~\n"
     ]
    }
   ],
   "source": [
    "first_restaurant.describe_restaurant()\n",
    "first_restaurant.open_restaurant()"
   ]
  },
  {
   "cell_type": "code",
   "execution_count": null,
   "id": "e8147211-211d-47fb-81a7-3924eaa83d10",
   "metadata": {},
   "outputs": [],
   "source": []
  }
 ],
 "metadata": {
  "kernelspec": {
   "display_name": "Python 3 (ipykernel)",
   "language": "python",
   "name": "python3"
  },
  "language_info": {
   "codemirror_mode": {
    "name": "ipython",
    "version": 3
   },
   "file_extension": ".py",
   "mimetype": "text/x-python",
   "name": "python",
   "nbconvert_exporter": "python",
   "pygments_lexer": "ipython3",
   "version": "3.9.10"
  }
 },
 "nbformat": 4,
 "nbformat_minor": 5
}
